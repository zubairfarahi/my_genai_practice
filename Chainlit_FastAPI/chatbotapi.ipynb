{
 "cells": [
  {
   "cell_type": "code",
   "execution_count": 2,
   "id": "15f9b262",
   "metadata": {},
   "outputs": [],
   "source": [
    "import os\n",
    "import openai\n",
    "import getpass\n"
   ]
  },
  {
   "cell_type": "code",
   "execution_count": 3,
   "id": "33f4f624",
   "metadata": {},
   "outputs": [],
   "source": [
    "os.environ[\"OPENAI_API_KEY\"] = getpass.getpass(\"Enter your OpenAI API key: \")\n",
    "openai.api_key = os.environ[\"OPENAI_API_KEY\"]"
   ]
  },
  {
   "cell_type": "code",
   "execution_count": 25,
   "id": "c31f0d93",
   "metadata": {},
   "outputs": [
    {
     "name": "stdout",
     "output_type": "stream",
     "text": [
      "Langchain is a decentralized web3 platform that enables individuals and organizations to create scalable, secure and user-friendly decentralized applications (dApps), while Llama Index is a cryptographic protocol that aims to provide a simple, accessible way to manage a diversified portfolio of cryptocurrencies.\n",
      "\n",
      "Langchain focuses on providing a platform for building and deploying decentralized applications, while Llama Index focuses on providing a financial tool for managing cryptocurrency investments.\n",
      "\n",
      "In summary, the main difference between Langchain and Llama Index is their core functions and purposes: Langchain is a platform for building decentralized applications, while Llama Index is a protocol for managing cryptocurrency investments.\n"
     ]
    }
   ],
   "source": [
    "your_prompt = \"What is the difference between langchain and llama index?\"\n",
    "\n",
    "response = openai.chat.completions.create(\n",
    "    model=\"gpt-3.5-turbo\",\n",
    "    messages=[{\"role\": \"user\", \"content\": your_prompt}]\n",
    ")\n",
    "\n",
    "print(response.choices[0].message.content)"
   ]
  },
  {
   "cell_type": "code",
   "execution_count": 45,
   "id": "2b6e963f",
   "metadata": {},
   "outputs": [
    {
     "ename": "ModuleNotFoundError",
     "evalue": "No module named 'Markdown'",
     "output_type": "error",
     "traceback": [
      "\u001b[31m---------------------------------------------------------------------------\u001b[39m",
      "\u001b[31mModuleNotFoundError\u001b[39m                       Traceback (most recent call last)",
      "\u001b[36mCell\u001b[39m\u001b[36m \u001b[39m\u001b[32mIn[45]\u001b[39m\u001b[32m, line 2\u001b[39m\n\u001b[32m      1\u001b[39m \u001b[38;5;28;01mfrom\u001b[39;00m\u001b[38;5;250m \u001b[39m\u001b[34;01mIPython\u001b[39;00m\u001b[34;01m.\u001b[39;00m\u001b[34;01mdisplay\u001b[39;00m\u001b[38;5;250m \u001b[39m\u001b[38;5;28;01mimport\u001b[39;00m display\n\u001b[32m----> \u001b[39m\u001b[32m2\u001b[39m \u001b[38;5;28;01mimport\u001b[39;00m\u001b[38;5;250m \u001b[39m\u001b[34;01mMarkdown\u001b[39;00m\u001b[38;5;250m \u001b[39m\u001b[38;5;28;01mas\u001b[39;00m\u001b[38;5;250m \u001b[39m\u001b[34;01mmarkdown\u001b[39;00m\n\u001b[32m      4\u001b[39m \u001b[38;5;66;03m# Define message creation functions\u001b[39;00m\n\u001b[32m      5\u001b[39m \u001b[38;5;28;01mdef\u001b[39;00m\u001b[38;5;250m \u001b[39m\u001b[34msystem_prompt\u001b[39m(content: \u001b[38;5;28mstr\u001b[39m) -> \u001b[38;5;28mdict\u001b[39m:\n",
      "\u001b[31mModuleNotFoundError\u001b[39m: No module named 'Markdown'"
     ]
    }
   ],
   "source": [
    "from IPython.display import display\n",
    "import Markdown as markdown\n",
    "\n",
    "# Define message creation functions\n",
    "def system_prompt(content: str) -> dict:\n",
    "    return {\"role\": \"system\", \"content\": content}\n",
    "\n",
    "def user_prompt(content: str) -> dict:\n",
    "    return {\"role\": \"user\", \"content\": content}\n",
    "\n",
    "def assistant_prompt(content: str) -> dict:\n",
    "    return {\"role\": \"assistant\", \"content\": content}\n",
    "\n",
    "# Function to call OpenAI ChatCompletion\n",
    "def get_response(messages: list[dict], model: str = \"gpt-3.5-turbo\") -> str:\n",
    "    response = openai.chat.completions.create(\n",
    "        model=model,\n",
    "        messages=messages\n",
    "    )\n",
    "    return response.choices[0].message.content\n",
    "\n",
    "# Pretty print a conversation history\n",
    "def pretty_print_messages(messages: list[dict]):\n",
    "    for msg in messages:\n",
    "        print(f\"{msg['role'].upper()}: {msg['content']}\\n\")"
   ]
  },
  {
   "cell_type": "code",
   "execution_count": 46,
   "id": "20ade367",
   "metadata": {},
   "outputs": [
    {
     "name": "stdout",
     "output_type": "stream",
     "text": [
      "Langchain and Llama Index are both cryptocurrency indices designed to track the performance of different digital assets in the market. However, there are some key differences between the two:\n",
      "\n",
      "1. Langchain focuses on a broader range of digital assets, including cryptocurrencies, decentralized finance (DeFi) tokens, and other blockchain-based assets. It aims to provide a comprehensive overview of the entire digital asset market.\n",
      "\n",
      "2. Llama Index, on the other hand, specifically focuses on tracking the performance of cryptocurrencies only. It includes a selection of the top cryptocurrencies by market capitalization and aims to provide a benchmark for the overall performance of the cryptocurrency market.\n",
      "\n",
      "3. Another difference between the two is their methodology for calculating index values. Langchain may use a weighted average or market capitalization-based methodology, while Llama Index may focus on equal-weighted indices or other specific methodologies.\n",
      "\n",
      "In summary, while both Langchain and Llama Index are cryptocurrency indices, Langchain offers a broader range of assets including cryptocurrencies, DeFi tokens, and other blockchain-based assets, whereas Llama Index focuses specifically on cryptocurrencies.\n"
     ]
    }
   ],
   "source": [
    "print(get_response([user_prompt(your_prompt)]))"
   ]
  },
  {
   "cell_type": "code",
   "execution_count": null,
   "id": "eff02937",
   "metadata": {},
   "outputs": [],
   "source": []
  }
 ],
 "metadata": {
  "kernelspec": {
   "display_name": ".venv",
   "language": "python",
   "name": "python3"
  },
  "language_info": {
   "codemirror_mode": {
    "name": "ipython",
    "version": 3
   },
   "file_extension": ".py",
   "mimetype": "text/x-python",
   "name": "python",
   "nbconvert_exporter": "python",
   "pygments_lexer": "ipython3",
   "version": "3.13.5"
  }
 },
 "nbformat": 4,
 "nbformat_minor": 5
}
